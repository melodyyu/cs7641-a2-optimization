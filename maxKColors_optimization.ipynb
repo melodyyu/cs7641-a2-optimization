{
 "cells": [
  {
   "cell_type": "code",
   "execution_count": 10,
   "id": "6a26025d-86fb-4d9e-9146-e60f5fbcd203",
   "metadata": {},
   "outputs": [],
   "source": [
    "import mlrose_hiive as mlrose\n",
    "import pandas as pd\n",
    "import numpy as np\n",
    "import joblib\n",
    "from tqdm import tqdm\n",
    "import time"
   ]
  },
  {
   "cell_type": "code",
   "execution_count": 2,
   "id": "8b293872-50c2-41a2-9517-e64c2ebe8405",
   "metadata": {},
   "outputs": [],
   "source": [
    "import sklearn"
   ]
  },
  {
   "cell_type": "code",
   "execution_count": 3,
   "id": "4e9dbe18-7549-4592-851a-b39183305b91",
   "metadata": {},
   "outputs": [],
   "source": [
    "import matplotlib.pyplot as plt\n",
    "import seaborn as sns"
   ]
  },
  {
   "cell_type": "code",
   "execution_count": 4,
   "id": "78210c43-b420-47e3-b335-e00ff0cc820e",
   "metadata": {},
   "outputs": [],
   "source": [
    "from mlrose_hiive.fitness import MaxKColor\n",
    "from mlrose_hiive.generators import MaxKColorGenerator"
   ]
  },
  {
   "cell_type": "code",
   "execution_count": 6,
   "id": "42fc6e59-36d0-4694-8fab-b1a4d91d403b",
   "metadata": {},
   "outputs": [],
   "source": [
    "from IPython.core.display import display, HTML "
   ]
  },
  {
   "cell_type": "markdown",
   "id": "aa1a460c-c926-4e5e-b4e9-8c8d7a140b41",
   "metadata": {},
   "source": [
    "#### define maxkcolors with generator set - same initial state seed, same size for nodes"
   ]
  },
  {
   "cell_type": "code",
   "execution_count": 7,
   "id": "a58ac7c3-0fd1-4822-8a74-cebf5cad1f65",
   "metadata": {},
   "outputs": [],
   "source": [
    "maxKColor_problem_100 = MaxKColorGenerator.generate(seed=428, number_of_nodes=100, maximize=True)\n",
    "maxKColor_problem_50 = MaxKColorGenerator.generate(seed=428, number_of_nodes=50, maximize=True)\n",
    "maxKColor_problem_25 = MaxKColorGenerator.generate(seed=428, number_of_nodes=25, maximize=True)"
   ]
  },
  {
   "cell_type": "markdown",
   "id": "707ff48a-a2aa-424b-b341-ea00e31bca65",
   "metadata": {},
   "source": [
    "#### run SA, GA and RHC with seed=55 for apples-to-apples comparison"
   ]
  },
  {
   "cell_type": "markdown",
   "id": "fbcdde5e-c32a-4b69-a80f-6670fe0d77ae",
   "metadata": {},
   "source": [
    "## Simulated Annealing (SA)"
   ]
  },
  {
   "cell_type": "code",
   "execution_count": 8,
   "id": "b172a41e-bcec-4c57-a5e2-cd178fade3fd",
   "metadata": {},
   "outputs": [],
   "source": [
    "from mlrose_hiive.runners import SARunner"
   ]
  },
  {
   "cell_type": "markdown",
   "id": "9fec91ab-ad40-4135-a5f4-4287c380a02e",
   "metadata": {},
   "source": [
    "#### use SARunner class to determine ideal temperature for nodes = 50"
   ]
  },
  {
   "cell_type": "code",
   "execution_count": 11,
   "id": "e0f81b65-d65f-4f98-8af2-cfd8459c45a8",
   "metadata": {},
   "outputs": [
    {
     "ename": "NameError",
     "evalue": "name 'mlrose_hiive' is not defined",
     "output_type": "error",
     "traceback": [
      "\u001b[0;31m---------------------------------------------------------------------------\u001b[0m",
      "\u001b[0;31mNameError\u001b[0m                                 Traceback (most recent call last)",
      "Cell \u001b[0;32mIn[11], line 8\u001b[0m\n\u001b[1;32m      1\u001b[0m sa_runner \u001b[38;5;241m=\u001b[39m mlrose\u001b[38;5;241m.\u001b[39mSARunner(problem\u001b[38;5;241m=\u001b[39mmaxkcolor_problem_50,\n\u001b[1;32m      2\u001b[0m                             experiment_name\u001b[38;5;241m=\u001b[39m\u001b[38;5;124m\"\u001b[39m\u001b[38;5;124mSA_maxKColors50_Experiment\u001b[39m\u001b[38;5;124m\"\u001b[39m,\n\u001b[1;32m      3\u001b[0m                             output_directory\u001b[38;5;241m=\u001b[39m\u001b[38;5;28;01mNone\u001b[39;00m,  \n\u001b[1;32m      4\u001b[0m                             seed\u001b[38;5;241m=\u001b[39m\u001b[38;5;241m55\u001b[39m,\n\u001b[1;32m      5\u001b[0m                             iteration_list\u001b[38;5;241m=\u001b[39m\u001b[38;5;241m2\u001b[39m\u001b[38;5;241m*\u001b[39m\u001b[38;5;241m*\u001b[39mnp\u001b[38;5;241m.\u001b[39marange(\u001b[38;5;241m12\u001b[39m),  \n\u001b[1;32m      6\u001b[0m                             max_attempts\u001b[38;5;241m=\u001b[39m\u001b[38;5;241m200\u001b[39m,\n\u001b[1;32m      7\u001b[0m                             temperature_list\u001b[38;5;241m=\u001b[39m[\u001b[38;5;241m0.1\u001b[39m, \u001b[38;5;241m0.5\u001b[39m, \u001b[38;5;241m0.75\u001b[39m, \u001b[38;5;241m1.0\u001b[39m, \u001b[38;5;241m2.0\u001b[39m, \u001b[38;5;241m5.0\u001b[39m, \u001b[38;5;241m10.0\u001b[39m, \u001b[38;5;241m25.0\u001b[39m, \u001b[38;5;241m50.0\u001b[39m, \u001b[38;5;241m75.0\u001b[39m, \u001b[38;5;241m100.0\u001b[39m, \u001b[38;5;241m250.0\u001b[39m, \u001b[38;5;241m500.0\u001b[39m, \u001b[38;5;241m750.0\u001b[39m, \u001b[38;5;241m1000.0\u001b[39m],\n\u001b[0;32m----> 8\u001b[0m                             decay_list\u001b[38;5;241m=\u001b[39m[\u001b[43mmlrose_hiive\u001b[49m\u001b[38;5;241m.\u001b[39mGeomDecay])\n\u001b[1;32m      9\u001b[0m \u001b[38;5;66;03m# sa_runner.run()\u001b[39;00m\n\u001b[1;32m     10\u001b[0m \n\u001b[1;32m     11\u001b[0m \u001b[38;5;66;03m# Run the experiment\u001b[39;00m\n\u001b[1;32m     12\u001b[0m sa_run_stats, sa_run_curves \u001b[38;5;241m=\u001b[39m sa_runner\u001b[38;5;241m.\u001b[39mrun()\n",
      "\u001b[0;31mNameError\u001b[0m: name 'mlrose_hiive' is not defined"
     ]
    }
   ],
   "source": [
    "sa_runner = mlrose.SARunner(problem=maxkcolor_problem_50,\n",
    "                            experiment_name=\"SA_maxKColors50_Experiment\",\n",
    "                            output_directory=None,  \n",
    "                            seed=55,\n",
    "                            iteration_list=2**np.arange(12),  \n",
    "                            max_attempts=200,\n",
    "                            temperature_list=[0.1, 0.5, 0.75, 1.0, 2.0, 5.0, 10.0, 25.0, 50.0, 75.0, 100.0, 250.0, 500.0, 750.0, 1000.0],\n",
    "                            decay_list=[mlrose_hiive.GeomDecay])\n",
    "# sa_runner.run()\n",
    "\n",
    "# Run the experiment\n",
    "sa_run_stats, sa_run_curves = sa_runner.run()\n",
    "sa_run_stats"
   ]
  },
  {
   "cell_type": "code",
   "execution_count": null,
   "id": "12eb3b5d-bb7f-456e-b1e3-a595a0177229",
   "metadata": {},
   "outputs": [],
   "source": [
    "sa_run_curves.describe()"
   ]
  },
  {
   "cell_type": "code",
   "execution_count": null,
   "id": "50552f9d-c51b-462b-925a-3ffb19908040",
   "metadata": {},
   "outputs": [],
   "source": [
    "sa_run_curves.to_csv('sa_maxKColor50_temp_results.csv', index=False)"
   ]
  },
  {
   "cell_type": "code",
   "execution_count": null,
   "id": "9ce88c8f-399e-43a8-84a7-898e5c056a37",
   "metadata": {},
   "outputs": [],
   "source": [
    "def extract_initial_temperature(temp):\n",
    "    \"\"\"Extracts initial temperature from a GeomDecay object or returns the numeric value.\"\"\"\n",
    "    if isinstance(temp, str) and 'GeomDecay' in temp:\n",
    "        # Assuming the temperature is embedded in a string like 'GeomDecay(init_temp=10.0)'\n",
    "        import re\n",
    "        match = re.search(r'init_temp=([\\d.]+)', temp)\n",
    "        if match:\n",
    "            return float(match.group(1))\n",
    "    elif isinstance(temp, float):\n",
    "        return temp\n",
    "    else:\n",
    "        raise ValueError(f\"Unexpected temperature format: {temp}\")\n",
    "\n",
    "def plot_fitness_iterations(csv_path):\n",
    "    # Load the CSV file\n",
    "    df_temp_size100 = pd.read_csv('sa_maxKColor50_temp_results.csv')\n",
    "    \n",
    "    # Extract and handle temperature values correctly\n",
    "    df_temp_size100['Temperature'] = df_temp_size100['Temperature'].apply(extract_initial_temperature)\n",
    "    \n",
    "    # Plot fitness over iterations for each temperature\n",
    "    plt.figure(figsize=(12, 8))\n",
    "    \n",
    "    temperatures = df_temp_size100['Temperature'].unique()\n",
    "    \n",
    "    for temp in temperatures:\n",
    "        temp_df = df_temp_size100[df_temp_size100['Temperature'] == temp]\n",
    "        plt.plot(temp_df['Iteration'], temp_df['Fitness'], label=f'Temperature {temp}')\n",
    "    \n",
    "    plt.xlabel('Iterations')\n",
    "    plt.ylabel('Fitness')\n",
    "    plt.title('Max K Colors(SA): Fitness vs Iterations for Different Temperatures (Problem Size=50)')\n",
    "    plt.legend(title='Temperature')\n",
    "    plt.grid(True)\n",
    "    plt.show()\n",
    "\n",
    "# Call the function with the CSV file path\n",
    "plot_fitness_iterations('/mnt/data/sa_maxKColor50_temp_results.csv')"
   ]
  },
  {
   "cell_type": "code",
   "execution_count": null,
   "id": "1798b5a7-e49f-411d-a19a-36b7f9da6a6a",
   "metadata": {},
   "outputs": [],
   "source": [
    "df_temp_size50 = pd.read_csv('sa_maxKColor50_temp_results.csv')\n",
    "\n",
    "best_fitness = df_temp_size50['Fitness'].max()\n",
    "best_runs = df_temp_size50[df_temp_size50['Fitness'] == best_fitness]\n",
    "\n",
    "HTML(best_runs.to_html())"
   ]
  },
  {
   "cell_type": "code",
   "execution_count": null,
   "id": "98b81c05-d109-4123-81b8-b80bf028d778",
   "metadata": {},
   "outputs": [],
   "source": [
    "maximum_evaluations = best_runs['FEvals'].max()\n",
    "\n",
    "best_curve_run = best_runs[best_runs['FEvals'] == maximum_evaluations]\n",
    "HTML(best_curve_run.to_html())"
   ]
  },
  {
   "cell_type": "markdown",
   "id": "f1b1b708-b53e-4d9b-8ff8-5f2b5adda964",
   "metadata": {},
   "source": [
    "Best initial temperature for a problem size of 50 is either 750 or 1000. Either option is fine because it returns the same fitness and FEval"
   ]
  },
  {
   "cell_type": "markdown",
   "id": "d7d28717-0a30-4f29-9054-7399294eb371",
   "metadata": {},
   "source": [
    "#### determine ideal temp for nodes=100"
   ]
  },
  {
   "cell_type": "code",
   "execution_count": null,
   "id": "9b60b001-599f-40b2-8e60-2678807c24ed",
   "metadata": {},
   "outputs": [],
   "source": [
    "sa_runner = mlrose.SARunner(problem=maxKColor_problem_100,\n",
    "                            experiment_name=\"SA_maxKColors100_Experiment\",\n",
    "                            output_directory=None,  \n",
    "                            seed=55,\n",
    "                            iteration_list=2**np.arange(12),  \n",
    "                            max_attempts=200,\n",
    "                            temperature_list=[0.1, 0.5, 0.75, 1.0, 2.0, 5.0, 10.0, 25.0, 50.0, 75.0, 100.0, 250.0, 500.0, 750.0, 1000.0],\n",
    "                            decay_list=[mlrose_hiive.GeomDecay])\n",
    "# sa_runner.run()\n",
    "\n",
    "# Run the experiment\n",
    "sa_run_stats, sa_run_curves = sa_runner.run()\n",
    "sa_run_stats"
   ]
  },
  {
   "cell_type": "code",
   "execution_count": null,
   "id": "38efad47-30df-4561-a38b-c313dde8e3c7",
   "metadata": {},
   "outputs": [],
   "source": [
    "sa_run_curves.describe()"
   ]
  },
  {
   "cell_type": "code",
   "execution_count": null,
   "id": "55994567-4bca-44b6-b648-409703803a7e",
   "metadata": {},
   "outputs": [],
   "source": [
    "sa_run_curves.to_csv('sa_maxKColor100_temp_results.csv', index=False)"
   ]
  },
  {
   "cell_type": "code",
   "execution_count": null,
   "id": "bbebff86-a1dd-4760-9cd6-4dea240ceaf1",
   "metadata": {},
   "outputs": [],
   "source": [
    "def extract_initial_temperature(temp):\n",
    "    \"\"\"Extracts initial temperature from a GeomDecay object or returns the numeric value.\"\"\"\n",
    "    if isinstance(temp, str) and 'GeomDecay' in temp:\n",
    "        # Assuming the temperature is embedded in a string like 'GeomDecay(init_temp=10.0)'\n",
    "        import re\n",
    "        match = re.search(r'init_temp=([\\d.]+)', temp)\n",
    "        if match:\n",
    "            return float(match.group(1))\n",
    "    elif isinstance(temp, float):\n",
    "        return temp\n",
    "    else:\n",
    "        raise ValueError(f\"Unexpected temperature format: {temp}\")\n",
    "\n",
    "def plot_fitness_iterations(csv_path):\n",
    "    # Load the CSV file\n",
    "    df_temp_size100 = pd.read_csv('sa_maxKColor100_temp_results.csv')\n",
    "    \n",
    "    # Extract and handle temperature values correctly\n",
    "    df_temp_size100['Temperature'] = df_temp_size100['Temperature'].apply(extract_initial_temperature)\n",
    "    \n",
    "    # Plot fitness over iterations for each temperature\n",
    "    plt.figure(figsize=(12, 8))\n",
    "    \n",
    "    temperatures = df_temp_size100['Temperature'].unique()\n",
    "    \n",
    "    for temp in temperatures:\n",
    "        temp_df = df_temp_size100[df_temp_size100['Temperature'] == temp]\n",
    "        plt.plot(temp_df['Iteration'], temp_df['Fitness'], label=f'Temperature {temp}')\n",
    "    \n",
    "    plt.xlabel('Iterations')\n",
    "    plt.ylabel('Fitness')\n",
    "    plt.title('Max K Colors(SA): Fitness vs Iterations for Different Temperatures (Problem Size=100)')\n",
    "    plt.legend(title='Temperature')\n",
    "    plt.grid(True)\n",
    "    plt.show()\n",
    "\n",
    "# Call the function with the CSV file path\n",
    "plot_fitness_iterations('/mnt/data/sa_maxKColor100_temp_results.csv')"
   ]
  },
  {
   "cell_type": "code",
   "execution_count": null,
   "id": "b5b18a11-3654-41d5-aea2-47f95195d680",
   "metadata": {},
   "outputs": [],
   "source": [
    "df_temp_size50 = pd.read_csv('sa_maxKColor100_temp_results.csv')\n",
    "\n",
    "best_fitness = df_temp_size50['Fitness'].max()\n",
    "best_runs = df_temp_size50[df_temp_size50['Fitness'] == best_fitness]\n",
    "\n",
    "HTML(best_runs.to_html())"
   ]
  },
  {
   "cell_type": "code",
   "execution_count": null,
   "id": "2a3eddd2-e9fe-4e8c-b1fb-900921591d48",
   "metadata": {},
   "outputs": [],
   "source": [
    "maximum_evaluations = best_runs['FEvals'].max()\n",
    "\n",
    "best_curve_run = best_runs[best_runs['FEvals'] == maximum_evaluations]\n",
    "HTML(best_curve_run.to_html())"
   ]
  },
  {
   "cell_type": "markdown",
   "id": "05815755-375d-4204-9ad6-63737a2d45e4",
   "metadata": {},
   "source": [
    "Best initial temperature for a problem size of 50 is either 750 or 1000. Either option is fine because it returns the same fitness and FEval"
   ]
  },
  {
   "cell_type": "markdown",
   "id": "cea0d6e5-ba37-4de1-92ef-398a9030323c",
   "metadata": {},
   "source": [
    "#### determine ideal temp for nodes=25"
   ]
  },
  {
   "cell_type": "code",
   "execution_count": null,
   "id": "564d84e0-2738-4234-bc2b-c8d9ee5a0fd0",
   "metadata": {},
   "outputs": [],
   "source": [
    "sa_runner = mlrose.SARunner(problem=maxKColor_problem_25,\n",
    "                            experiment_name=\"SA_maxKColors25_Experiment\",\n",
    "                            output_directory=None,  \n",
    "                            seed=55,\n",
    "                            iteration_list=2**np.arange(12),  \n",
    "                            max_attempts=200,\n",
    "                            temperature_list=[0.1, 0.5, 0.75, 1.0, 2.0, 5.0, 10.0, 25.0, 50.0, 75.0, 100.0, 250.0, 500.0, 750.0, 1000.0],\n",
    "                            decay_list=[mlrose_hiive.GeomDecay])\n",
    "# sa_runner.run()\n",
    "\n",
    "# Run the experiment\n",
    "sa_run_stats, sa_run_curves = sa_runner.run()\n",
    "sa_run_stats"
   ]
  },
  {
   "cell_type": "code",
   "execution_count": null,
   "id": "4899f2a1-3924-491a-964f-cb985e6ff981",
   "metadata": {},
   "outputs": [],
   "source": [
    "sa_run_curves.describe()"
   ]
  },
  {
   "cell_type": "code",
   "execution_count": null,
   "id": "bc12f166-a0fb-4433-99e3-f44e6612af45",
   "metadata": {},
   "outputs": [],
   "source": [
    "sa_run_curves.to_csv('sa_maxKColor25_temp_results.csv', index=False)"
   ]
  },
  {
   "cell_type": "code",
   "execution_count": null,
   "id": "1a0997a7-5271-4eb2-af69-d89f2ebcf842",
   "metadata": {},
   "outputs": [],
   "source": [
    "def extract_initial_temperature(temp):\n",
    "    \"\"\"Extracts initial temperature from a GeomDecay object or returns the numeric value.\"\"\"\n",
    "    if isinstance(temp, str) and 'GeomDecay' in temp:\n",
    "        # Assuming the temperature is embedded in a string like 'GeomDecay(init_temp=10.0)'\n",
    "        import re\n",
    "        match = re.search(r'init_temp=([\\d.]+)', temp)\n",
    "        if match:\n",
    "            return float(match.group(1))\n",
    "    elif isinstance(temp, float):\n",
    "        return temp\n",
    "    else:\n",
    "        raise ValueError(f\"Unexpected temperature format: {temp}\")\n",
    "\n",
    "def plot_fitness_iterations(csv_path):\n",
    "    # Load the CSV file\n",
    "    df_temp_size100 = pd.read_csv('sa_maxKColor25_temp_results.csv')\n",
    "    \n",
    "    # Extract and handle temperature values correctly\n",
    "    df_temp_size100['Temperature'] = df_temp_size100['Temperature'].apply(extract_initial_temperature)\n",
    "    \n",
    "    # Plot fitness over iterations for each temperature\n",
    "    plt.figure(figsize=(12, 8))\n",
    "    \n",
    "    temperatures = df_temp_size100['Temperature'].unique()\n",
    "    \n",
    "    for temp in temperatures:\n",
    "        temp_df = df_temp_size100[df_temp_size100['Temperature'] == temp]\n",
    "        plt.plot(temp_df['Iteration'], temp_df['Fitness'], label=f'Temperature {temp}')\n",
    "    \n",
    "    plt.xlabel('Iterations')\n",
    "    plt.ylabel('Fitness')\n",
    "    plt.title('Max K Colors(SA): Fitness vs Iterations for Different Temperatures (Problem Size=25)')\n",
    "    plt.legend(title='Temperature')\n",
    "    plt.grid(True)\n",
    "    plt.show()\n",
    "\n",
    "# Call the function with the CSV file path\n",
    "plot_fitness_iterations('/mnt/data/sa_maxKColor25_temp_results.csv')"
   ]
  },
  {
   "cell_type": "code",
   "execution_count": null,
   "id": "9abda9dd-7090-4f47-9b5c-918013df73bf",
   "metadata": {},
   "outputs": [],
   "source": [
    "df_temp_size50 = pd.read_csv('sa_maxKColor25_temp_results.csv')\n",
    "\n",
    "best_fitness = df_temp_size50['Fitness'].max()\n",
    "best_runs = df_temp_size50[df_temp_size50['Fitness'] == best_fitness]\n",
    "\n",
    "HTML(best_runs.to_html())"
   ]
  },
  {
   "cell_type": "code",
   "execution_count": null,
   "id": "fcac4f96-6431-4db4-98f0-34106c76f227",
   "metadata": {},
   "outputs": [],
   "source": [
    "maximum_evaluations = best_runs['FEvals'].max()\n",
    "\n",
    "best_curve_run = best_runs[best_runs['FEvals'] == maximum_evaluations]\n",
    "HTML(best_curve_run.to_html())"
   ]
  },
  {
   "cell_type": "code",
   "execution_count": null,
   "id": "dfd48619-2148-4227-b0ca-ff6b090a3bfe",
   "metadata": {},
   "outputs": [],
   "source": []
  },
  {
   "cell_type": "markdown",
   "id": "455cb107-5b21-487a-bb42-c5399e92b654",
   "metadata": {},
   "source": [
    "Best initial temperature for a problem size of 50 is either 750 or 1000. Either option is fine because it returns the same fitness and FEval"
   ]
  },
  {
   "cell_type": "markdown",
   "id": "1b45dc75-385e-4c42-9c8b-074dfa886aed",
   "metadata": {},
   "source": [
    "## Genetic Algorithms (GA)"
   ]
  },
  {
   "cell_type": "code",
   "execution_count": null,
   "id": "7db8264c-f0b2-4aac-93d5-3e1059b1c7e4",
   "metadata": {},
   "outputs": [],
   "source": [
    "from mlrose_hiive.runners import GARunner"
   ]
  },
  {
   "cell_type": "code",
   "execution_count": null,
   "id": "d9fd3ddf-8899-4199-b1f1-64b3beade573",
   "metadata": {},
   "outputs": [],
   "source": []
  },
  {
   "cell_type": "code",
   "execution_count": null,
   "id": "b24d32cb-b5f5-4761-9c73-0a68d99e662b",
   "metadata": {},
   "outputs": [],
   "source": []
  },
  {
   "cell_type": "code",
   "execution_count": null,
   "id": "c7d293cb-8cb7-4773-ad2f-7c90780df284",
   "metadata": {},
   "outputs": [],
   "source": []
  },
  {
   "cell_type": "markdown",
   "id": "3d57a180-4fa8-4b8a-bbd5-6abe495bad2c",
   "metadata": {},
   "source": [
    "## Randomized Hill Climbing (RHC)"
   ]
  },
  {
   "cell_type": "code",
   "execution_count": null,
   "id": "79f6ec15-0204-4ba4-bad3-169856fa97a4",
   "metadata": {},
   "outputs": [],
   "source": [
    "from mlrose_hiive.runners import RHCRunner"
   ]
  }
 ],
 "metadata": {
  "kernelspec": {
   "display_name": "Python (cs7641-a2)",
   "language": "python",
   "name": "cs7641-a2"
  },
  "language_info": {
   "codemirror_mode": {
    "name": "ipython",
    "version": 3
   },
   "file_extension": ".py",
   "mimetype": "text/x-python",
   "name": "python",
   "nbconvert_exporter": "python",
   "pygments_lexer": "ipython3",
   "version": "3.10.14"
  }
 },
 "nbformat": 4,
 "nbformat_minor": 5
}
