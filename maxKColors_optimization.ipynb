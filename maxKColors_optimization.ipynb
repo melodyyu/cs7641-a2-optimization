{
 "cells": [
  {
   "cell_type": "code",
   "execution_count": 8,
   "id": "6a26025d-86fb-4d9e-9146-e60f5fbcd203",
   "metadata": {},
   "outputs": [],
   "source": [
    "import mlrose_hiive as mlrose\n",
    "import pandas as pd\n",
    "import numpy as np\n",
    "import joblib\n",
    "from tqdm import tqdm\n",
    "import time"
   ]
  },
  {
   "cell_type": "code",
   "execution_count": 9,
   "id": "8b293872-50c2-41a2-9517-e64c2ebe8405",
   "metadata": {},
   "outputs": [],
   "source": [
    "import sklearn"
   ]
  },
  {
   "cell_type": "code",
   "execution_count": 10,
   "id": "4e9dbe18-7549-4592-851a-b39183305b91",
   "metadata": {},
   "outputs": [],
   "source": [
    "import matplotlib.pyplot as plt\n",
    "import seaborn as sns"
   ]
  },
  {
   "cell_type": "code",
   "execution_count": 15,
   "id": "78210c43-b420-47e3-b335-e00ff0cc820e",
   "metadata": {},
   "outputs": [],
   "source": [
    "from mlrose_hiive.fitness import MaxKColor\n",
    "from mlrose_hiive.generators import MaxKColorGenerator\n",
    "\n",
    "from mlrose_hiive.runners import RHCRunner, SARunner, GARunner"
   ]
  }
 ],
 "metadata": {
  "kernelspec": {
   "display_name": "Python (cs7641-a2)",
   "language": "python",
   "name": "cs7641-a2"
  },
  "language_info": {
   "codemirror_mode": {
    "name": "ipython",
    "version": 3
   },
   "file_extension": ".py",
   "mimetype": "text/x-python",
   "name": "python",
   "nbconvert_exporter": "python",
   "pygments_lexer": "ipython3",
   "version": "3.10.14"
  }
 },
 "nbformat": 4,
 "nbformat_minor": 5
}
